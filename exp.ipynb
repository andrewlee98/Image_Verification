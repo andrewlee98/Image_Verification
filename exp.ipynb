{
 "cells": [
  {
   "cell_type": "code",
   "execution_count": 1,
   "metadata": {},
   "outputs": [],
   "source": [
    "import numpy as np\n",
    "from os import listdir, path\n",
    "from PIL import Image\n",
    "import time\n",
    "import pickle\n",
    "import tensorflow as tf"
   ]
  },
  {
   "cell_type": "code",
   "execution_count": 3,
   "metadata": {},
   "outputs": [
    {
     "name": "stdout",
     "output_type": "stream",
     "text": [
      "data shapes: (98179, 64, 64, 3) (98179,)\n",
      "time elapsed: 1.6172358989715576\n"
     ]
    }
   ],
   "source": [
    "# check all the folders and categories are here/build dataset\n",
    "t0 = time.time()\n",
    "\n",
    "if not path.exists('train_data.pkl'):\n",
    "    x_train, y_train = [], []\n",
    "    assert(len(listdir('tiny-imagenet-200/train')) == 200)\n",
    "    for label, folder in enumerate(listdir('tiny-imagenet-200/train')):\n",
    "        assert(len(listdir('tiny-imagenet-200/train/' + folder + '/images')) == 500)\n",
    "        for image in listdir('tiny-imagenet-200/train/' + folder + '/images'):\n",
    "            im = Image.open('tiny-imagenet-200/train/' + folder + '/images/' + image)\n",
    "            im = np.array(im.getdata(), dtype=np.uint8)\n",
    "            if im.shape == (4096, 3):\n",
    "                x_train.append(im.reshape(64, 64, 3))\n",
    "                y_train.append(label)\n",
    "\n",
    "    x_train, y_train = np.array(x_train, dtype=np.uint8), np.array(y_train, dtype=np.uint16)\n",
    "    print(x_train.shape, y_train.shape)\n",
    "\n",
    "    print(len(listdir('tiny-imagenet-200/test/images')))\n",
    "    for fil in listdir('tiny-imagenet-200/test/images'):\n",
    "        print(Image.open('tiny-imagenet-200/test/images/' + fil).size)\n",
    "\n",
    "    pickle.dump((x_train, y_train), open('train_data.pkl', 'wb'))\n",
    "    \n",
    "else:\n",
    "    x_train, y_train = pickle.load(open('train_data.pkl', 'rb'))\n",
    "    \n",
    "print('data shapes:', x_train.shape, y_train.shape)\n",
    "print('time elapsed:', time.time()-t0)"
   ]
  },
  {
   "cell_type": "code",
   "execution_count": 8,
   "metadata": {},
   "outputs": [
    {
     "data": {
      "text/plain": [
       "True"
      ]
     },
     "execution_count": 8,
     "metadata": {},
     "output_type": "execute_result"
    }
   ],
   "source": [
    "# try to use gpu\n",
    "tf.test.is_gpu_available()"
   ]
  },
  {
   "cell_type": "code",
   "execution_count": 11,
   "metadata": {},
   "outputs": [
    {
     "data": {
      "image/png": "[encoded data removed]",
      "text/plain": [
       "<Figure size 432x288 with 1 Axes>"
      ]
     },
     "metadata": {
      "needs_background": "light"
     },
     "output_type": "display_data"
    }
   ],
   "source": [
    "# check image is okay\n",
    "from matplotlib import pyplot as plt\n",
    "plt.figure()\n",
    "plt.imshow(x_train[0].astype(np.uint8))\n",
    "plt.show()"
   ]
  },
  {
   "cell_type": "code",
   "execution_count": 12,
   "metadata": {},
   "outputs": [
    {
     "name": "stderr",
     "output_type": "stream",
     "text": [
      "Using TensorFlow backend.\n"
     ]
    },
    {
     "name": "stdout",
     "output_type": "stream",
     "text": [
      "Model: \"sequential_1\"\n",
      "_________________________________________________________________\n",
      "Layer (type)                 Output Shape              Param #   \n",
      "=================================================================\n",
      "conv2d_1 (Conv2D)            (None, 62, 62, 64)        1792      \n",
      "_________________________________________________________________\n",
      "conv2d_2 (Conv2D)            (None, 60, 60, 64)        36928     \n",
      "_________________________________________________________________\n",
      "max_pooling2d_1 (MaxPooling2 (None, 30, 30, 64)        0         \n",
      "_________________________________________________________________\n",
      "conv2d_3 (Conv2D)            (None, 28, 28, 64)        36928     \n",
      "_________________________________________________________________\n",
      "max_pooling2d_2 (MaxPooling2 (None, 14, 14, 64)        0         \n",
      "_________________________________________________________________\n",
      "flatten_1 (Flatten)          (None, 12544)             0         \n",
      "_________________________________________________________________\n",
      "dense_1 (Dense)              (None, 500)               6272500   \n",
      "_________________________________________________________________\n",
      "dense_2 (Dense)              (None, 200)               100200    \n",
      "=================================================================\n",
      "Total params: 6,448,348\n",
      "Trainable params: 6,448,348\n",
      "Non-trainable params: 0\n",
      "_________________________________________________________________\n",
      "None\n",
      "Train on 78543 samples, validate on 19636 samples\n",
      "Epoch 1/10\n",
      "78543/78543 [==============================] - 76s 965us/step - loss: 5.3815 - accuracy: 0.0138 - val_loss: 13.2356 - val_accuracy: 0.0000e+00\n",
      "Epoch 2/10\n",
      "78543/78543 [==============================] - 71s 910us/step - loss: 4.5397 - accuracy: 0.0601 - val_loss: 22.2445 - val_accuracy: 1.0185e-04\n",
      "Epoch 3/10\n",
      "78543/78543 [==============================] - 71s 909us/step - loss: 3.8013 - accuracy: 0.1629 - val_loss: 23.9942 - val_accuracy: 2.0371e-04\n",
      "Epoch 4/10\n",
      "78543/78543 [==============================] - 71s 908us/step - loss: 3.0622 - accuracy: 0.2890 - val_loss: 29.9362 - val_accuracy: 1.5278e-04\n",
      "Epoch 5/10\n",
      "78543/78543 [==============================] - 71s 908us/step - loss: 2.0754 - accuracy: 0.4889 - val_loss: 35.9991 - val_accuracy: 1.0185e-04\n",
      "Epoch 6/10\n",
      "78543/78543 [==============================] - 71s 910us/step - loss: 1.0885 - accuracy: 0.7158 - val_loss: 49.9111 - val_accuracy: 1.0185e-04\n",
      "Epoch 7/10\n",
      "78543/78543 [==============================] - 71s 908us/step - loss: 0.6355 - accuracy: 0.8259 - val_loss: 59.5030 - val_accuracy: 2.5463e-04\n",
      "Epoch 8/10\n",
      "78543/78543 [==============================] - 71s 907us/step - loss: 0.4909 - accuracy: 0.8674 - val_loss: 70.4785 - val_accuracy: 2.0371e-04\n",
      "Epoch 9/10\n",
      "78543/78543 [==============================] - 71s 907us/step - loss: 0.4077 - accuracy: 0.8918 - val_loss: 71.6661 - val_accuracy: 1.0185e-04\n",
      "Epoch 10/10\n",
      "78543/78543 [==============================] - 71s 906us/step - loss: 0.3704 - accuracy: 0.9043 - val_loss: 77.5775 - val_accuracy: 1.5278e-04\n"
     ]
    }
   ],
   "source": [
    "# this one sucks\n",
    "\n",
    "from keras.models import Sequential\n",
    "from keras.layers import Dense, Conv2D, Flatten, MaxPooling2D\n",
    "#create model\n",
    "model = Sequential()\n",
    "#add model layers\n",
    "model.add(Conv2D(64, kernel_size=3, activation='relu', input_shape=(64,64,3)))\n",
    "model.add(Conv2D(64, kernel_size=3, activation='relu'))\n",
    "model.add(MaxPooling2D())\n",
    "model.add(Conv2D(64, kernel_size=3, activation='relu'))\n",
    "model.add(MaxPooling2D())\n",
    "model.add(Flatten())\n",
    "model.add(Dense(500, activation='relu'))\n",
    "model.add(Dense(200, activation='softmax'))\n",
    "print(model.summary())\n",
    "\n",
    "model.compile(optimizer='adam',\n",
    "              loss='sparse_categorical_crossentropy',\n",
    "              metrics=['accuracy'])\n",
    "history = model.fit(x_train, y_train, batch_size=64, epochs=10, shuffle=True, validation_split=0.2)"
   ]
  },
  {
   "cell_type": "code",
   "execution_count": null,
   "metadata": {},
   "outputs": [],
   "source": [
    "# from keras.applications import VGG16\n",
    "# from keras import models\n",
    "# from keras import layers\n",
    "# from keras import utils\n",
    "\n",
    "# conv_base = VGG16(weights=\"imagenet\", include_top=False, input_shape=(64, 64, 3))\n",
    "\n",
    "# model = models.Sequential()\n",
    "# model.add(conv_base)\n",
    "# model.add(layers.Flatten())\n",
    "# model.add(layers.Dense(256, activation=\"relu\"))\n",
    "# model.add(layers.Dense(200, activation=\"softmax\"))\n",
    "# print(model.summary())\n",
    "\n",
    "# model.compile(optimizer='adam',\n",
    "#               loss='categorical_crossentropy',\n",
    "#               metrics=['accuracy'])\n",
    "# model.fit(x_train, utils.to_categorical(y_train, num_classes=200), batch_size=64, epochs=20, validation_split=0.2, shuffle=True)"
   ]
  },
  {
   "cell_type": "code",
   "execution_count": 20,
   "metadata": {},
   "outputs": [],
   "source": [
    "from keras.applications.vgg16 import VGG16\n",
    "from keras.models import Sequential, Model\n",
    "from keras.layers import Conv2D, ZeroPadding2D, Activation, Input, concatenate\n",
    "from keras.layers.core import Lambda, Flatten, Dense\n",
    "from keras.layers.normalization import BatchNormalization\n",
    "from keras.layers.pooling import MaxPooling2D\n",
    "from keras.layers.merge import Concatenate\n",
    "from keras import backend as K\n",
    "from keras.optimizers import Adam\n",
    "\n",
    "left_input = Input((64, 64, 3))\n",
    "right_input = Input((64, 64, 3))\n",
    "\n",
    "conv_base = VGG16(weights=\"imagenet\", include_top=False, input_shape=(64, 64, 3))\n",
    "model = Sequential()\n",
    "model.add(conv_base)\n",
    "model.add(Flatten())\n",
    "model.add(Dense(256, activation=\"relu\"))\n",
    "model.add(Dense(200, activation=\"softmax\"))\n",
    "\n",
    "encoded_l = model(left_input)\n",
    "encoded_r = model(right_input)\n",
    "\n",
    "L1_layer = Lambda(lambda tensors:K.abs(tensors[0] - tensors[1]))\n",
    "L1_distance = L1_layer([encoded_l, encoded_r])\n",
    "prediction = Dense(1,activation='sigmoid')(L1_distance)\n",
    "siamese_net = Model(inputs=[left_input,right_input],outputs=prediction)\n",
    "\n",
    "model = siamese_net\n",
    "\n",
    "optimizer = Adam(lr = 0.00006)\n",
    "model.compile(loss=\"binary_crossentropy\",optimizer=optimizer)"
   ]
  },
  {
   "cell_type": "code",
   "execution_count": 5,
   "metadata": {},
   "outputs": [],
   "source": []
  },
  {
   "cell_type": "code",
   "execution_count": null,
   "metadata": {},
   "outputs": [],
   "source": []
  }
 ],
 "metadata": {
  "kernelspec": {
   "display_name": "Python 3",
   "language": "python",
   "name": "python3"
  },
  "language_info": {
   "codemirror_mode": {
    "name": "ipython",
    "version": 3
   },
   "file_extension": ".py",
   "mimetype": "text/x-python",
   "name": "python",
   "nbconvert_exporter": "python",
   "pygments_lexer": "ipython3",
   "version": "3.5.3"
  }
 },
 "nbformat": 4,
 "nbformat_minor": 4
}
